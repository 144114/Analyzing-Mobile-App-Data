{
 "cells": [
  {
   "attachments": {},
   "cell_type": "markdown",
   "metadata": {},
   "source": [
    "Analyzing Mobile App Data"
   ]
  },
  {
   "cell_type": "code",
   "execution_count": 1,
   "metadata": {},
   "outputs": [],
   "source": [
    "from csv import reader"
   ]
  },
  {
   "cell_type": "code",
   "execution_count": 2,
   "metadata": {},
   "outputs": [],
   "source": [
    "def reading(filename):\n",
    "    open_file = open(filename,encoding='utf8')\n",
    "    read_file = reader(open_file)\n",
    "    return list(read_file)\n",
    "\n",
    "def manage_column(dataset):\n",
    "    return dataset[0],dataset[1:]\n",
    "\n",
    "def explore_data(dataset,col_name,data_range=3):\n",
    "    print(\"Column name\")\n",
    "    print(col_name)\n",
    "    print(\"Dataset\")\n",
    "    for i in range(data_range):\n",
    "        print(dataset[i])\n",
    "    print(f\"Number of rows {len(dataset)} Number of Column {len(col_name)}\")"
   ]
  },
  {
   "cell_type": "code",
   "execution_count": 3,
   "metadata": {},
   "outputs": [],
   "source": [
    "apple = reading(\"AppleStore.csv\")\n",
    "google = reading(\"googleplaystore.csv\")"
   ]
  },
  {
   "cell_type": "code",
   "execution_count": 4,
   "metadata": {},
   "outputs": [],
   "source": [
    "apps_data_col,apps_data = manage_column(apple)\n",
    "google_data_col,google_data = manage_column(google)"
   ]
  },
  {
   "cell_type": "code",
   "execution_count": 5,
   "metadata": {},
   "outputs": [
    {
     "name": "stdout",
     "output_type": "stream",
     "text": [
      "Column name\n",
      "['id', 'track_name', 'size_bytes', 'currency', 'price', 'rating_count_tot', 'rating_count_ver', 'user_rating', 'user_rating_ver', 'ver', 'cont_rating', 'prime_genre', 'sup_devices.num', 'ipadSc_urls.num', 'lang.num', 'vpp_lic']\n",
      "Dataset\n",
      "['281656475', 'PAC-MAN Premium', '100788224', 'USD', '3.99', '21292', '26', '4', '4.5', '6.3.5', '4+', 'Games', '38', '5', '10', '1']\n",
      "Number of rows 7197 Number of Column 16\n"
     ]
    }
   ],
   "source": [
    "explore_data(apps_data,apps_data_col,data_range=1)"
   ]
  },
  {
   "cell_type": "code",
   "execution_count": 6,
   "metadata": {},
   "outputs": [
    {
     "name": "stdout",
     "output_type": "stream",
     "text": [
      "Column name\n",
      "['App', 'Category', 'Rating', 'Reviews', 'Size', 'Installs', 'Type', 'Price', 'Content Rating', 'Genres', 'Last Updated', 'Current Ver', 'Android Ver']\n",
      "Dataset\n",
      "['Photo Editor & Candy Camera & Grid & ScrapBook', 'ART_AND_DESIGN', '4.1', '159', '19M', '10,000+', 'Free', '0', 'Everyone', 'Art & Design', 'January 7, 2018', '1.0.0', '4.0.3 and up']\n",
      "Number of rows 10841 Number of Column 13\n"
     ]
    }
   ],
   "source": [
    "explore_data(google_data,google_data_col,data_range=1)"
   ]
  },
  {
   "attachments": {},
   "cell_type": "markdown",
   "metadata": {},
   "source": [
    "Finding Missing Data on Google Play Dataset by Using Kaggle Discussion Forum \n"
   ]
  },
  {
   "cell_type": "markdown",
   "metadata": {},
   "source": [
    "https://www.kaggle.com/datasets/lava18/google-play-store-apps/discussion"
   ]
  },
  {
   "cell_type": "code",
   "execution_count": 7,
   "metadata": {},
   "outputs": [
    {
     "name": "stdout",
     "output_type": "stream",
     "text": [
      "['Life Made WI-Fi Touchscreen Photo Frame', '1.9', '19', '3.0M', '1,000+', 'Free', '0', 'Everyone', '', 'February 11, 2018', '1.0.19', '4.0 and up']\n"
     ]
    }
   ],
   "source": [
    "missing_data_index = 10472\n",
    "print(google_data[10472])"
   ]
  },
  {
   "attachments": {},
   "cell_type": "markdown",
   "metadata": {},
   "source": [
    "Find Missing Data on Google Play Dataset by Using Function"
   ]
  },
  {
   "cell_type": "code",
   "execution_count": 8,
   "metadata": {},
   "outputs": [],
   "source": [
    "def find_missing(dataset):\n",
    "    index = 0\n",
    "    list_of_missing_data = []\n",
    "    for row in dataset:\n",
    "        if '' in row:\n",
    "            list_of_missing_data.append(index)\n",
    "        index += 1\n",
    "    return list_of_missing_data"
   ]
  },
  {
   "cell_type": "code",
   "execution_count": 9,
   "metadata": {},
   "outputs": [
    {
     "data": {
      "text/plain": [
       "[1553, 10472]"
      ]
     },
     "execution_count": 9,
     "metadata": {},
     "output_type": "execute_result"
    }
   ],
   "source": [
    "find_missing(google_data)"
   ]
  },
  {
   "cell_type": "code",
   "execution_count": 10,
   "metadata": {},
   "outputs": [
    {
     "name": "stdout",
     "output_type": "stream",
     "text": [
      "['Market Update Helper', 'LIBRARIES_AND_DEMO', '4.1', '20145', '11k', '1,000,000+', 'Free', '0', 'Everyone', 'Libraries & Demo', 'February 12, 2013', '', '1.5 and up']\n"
     ]
    }
   ],
   "source": [
    "#The missing data is on Current Ver column. Therefore, keeping this data should be fine\n",
    "print(google_data[1553])"
   ]
  },
  {
   "cell_type": "code",
   "execution_count": 11,
   "metadata": {},
   "outputs": [
    {
     "name": "stdout",
     "output_type": "stream",
     "text": [
      "Column name\n",
      "['App', 'Category', 'Rating', 'Reviews', 'Size', 'Installs', 'Type', 'Price', 'Content Rating', 'Genres', 'Last Updated', 'Current Ver', 'Android Ver']\n",
      "Dataset\n",
      "['Photo Editor & Candy Camera & Grid & ScrapBook', 'ART_AND_DESIGN', '4.1', '159', '19M', '10,000+', 'Free', '0', 'Everyone', 'Art & Design', 'January 7, 2018', '1.0.0', '4.0.3 and up']\n",
      "Number of rows 10840 Number of Column 13\n"
     ]
    }
   ],
   "source": [
    "#Deleting the missing data\n",
    "del google_data[10472]\n",
    "explore_data(google_data,google_data_col,data_range=1)"
   ]
  },
  {
   "attachments": {},
   "cell_type": "markdown",
   "metadata": {},
   "source": [
    "Finding Number of Duplicated rows"
   ]
  },
  {
   "cell_type": "code",
   "execution_count": 12,
   "metadata": {},
   "outputs": [],
   "source": [
    "def duplicate_count(dataset,name_index):\n",
    "    duplicate_apps = []\n",
    "    unique_apps = []\n",
    "    for row in dataset:\n",
    "        name = row[name_index]\n",
    "        if name in unique_apps:\n",
    "            duplicate_apps.append(name)\n",
    "        else:\n",
    "            unique_apps.append(name)\n",
    "    print(f\"Number of Duplicate Apps: {len(duplicate_apps)}\")\n",
    "    print(f\"Example of Duplicate Apps: {duplicate_apps[:5]}\")"
   ]
  },
  {
   "cell_type": "code",
   "execution_count": 13,
   "metadata": {},
   "outputs": [
    {
     "name": "stdout",
     "output_type": "stream",
     "text": [
      "Number of Duplicate Apps: 1181\n",
      "Example of Duplicate Apps: ['Quick PDF Scanner + OCR FREE', 'Box', 'Google My Business', 'ZOOM Cloud Meetings', 'join.me - Simple Meetings']\n"
     ]
    }
   ],
   "source": [
    "duplicate_count(google_data,0)"
   ]
  },
  {
   "cell_type": "code",
   "execution_count": 14,
   "metadata": {},
   "outputs": [
    {
     "data": {
      "text/plain": [
       "9659"
      ]
     },
     "execution_count": 14,
     "metadata": {},
     "output_type": "execute_result"
    }
   ],
   "source": [
    "#Google data should have 9659 rows\n",
    "len(google_data) - 1181"
   ]
  },
  {
   "cell_type": "code",
   "execution_count": 15,
   "metadata": {},
   "outputs": [
    {
     "name": "stdout",
     "output_type": "stream",
     "text": [
      "Number of Duplicate Apps: 0\n",
      "Example of Duplicate Apps: []\n"
     ]
    }
   ],
   "source": [
    "duplicate_count(apps_data,0)"
   ]
  },
  {
   "attachments": {},
   "cell_type": "markdown",
   "metadata": {},
   "source": [
    "Removing Duplicate Entry"
   ]
  },
  {
   "cell_type": "code",
   "execution_count": 16,
   "metadata": {},
   "outputs": [],
   "source": [
    "#Create a dictionary where key is a unique app name and the value is the highest number of reviews of that app\n",
    "def name_with_highest_reviews(dataset,name_index,review_index):\n",
    "    reviews_max = {}\n",
    "    for row in dataset:\n",
    "        name = row[name_index]\n",
    "        n_reviews = float(row[review_index])\n",
    "        if name in reviews_max and reviews_max[name] < n_reviews:\n",
    "            reviews_max[name] = n_reviews\n",
    "        if name not in reviews_max:\n",
    "            reviews_max[name] = n_reviews\n",
    "    return reviews_max"
   ]
  },
  {
   "cell_type": "code",
   "execution_count": 17,
   "metadata": {},
   "outputs": [
    {
     "data": {
      "text/plain": [
       "9659"
      ]
     },
     "execution_count": 17,
     "metadata": {},
     "output_type": "execute_result"
    }
   ],
   "source": [
    "google_dupli_data = name_with_highest_reviews(google_data,0,3)\n",
    "len(google_dupli_data)"
   ]
  },
  {
   "cell_type": "code",
   "execution_count": 18,
   "metadata": {},
   "outputs": [],
   "source": [
    "def remove_duplicate_rows(dataset,reviews_max,name_index,review_index):\n",
    "    clean = []\n",
    "    already_added = []\n",
    "    for row in dataset:\n",
    "        name = row[name_index]\n",
    "        n_reviews = float(row[review_index])\n",
    "        if (n_reviews == reviews_max[name]) and (name not in already_added):\n",
    "            clean.append(row)\n",
    "            already_added.append(name)\n",
    "    return clean\n"
   ]
  },
  {
   "cell_type": "code",
   "execution_count": 19,
   "metadata": {},
   "outputs": [],
   "source": [
    "clean_android_data = remove_duplicate_rows(google_data,google_dupli_data,0,3)"
   ]
  },
  {
   "cell_type": "code",
   "execution_count": 20,
   "metadata": {},
   "outputs": [
    {
     "data": {
      "text/plain": [
       "9659"
      ]
     },
     "execution_count": 20,
     "metadata": {},
     "output_type": "execute_result"
    }
   ],
   "source": [
    "len(clean_android_data)"
   ]
  },
  {
   "attachments": {},
   "cell_type": "markdown",
   "metadata": {},
   "source": [
    "Testing Removing None English Words"
   ]
  },
  {
   "cell_type": "code",
   "execution_count": 21,
   "metadata": {},
   "outputs": [],
   "source": [
    "def eng_check(string):\n",
    "    counter = 0\n",
    "    for i in string:\n",
    "        if ord(i) > 127:\n",
    "            counter += 1\n",
    "    if counter <= 3:\n",
    "        return True\n",
    "    return False"
   ]
  },
  {
   "cell_type": "code",
   "execution_count": 22,
   "metadata": {},
   "outputs": [
    {
     "data": {
      "text/plain": [
       "True"
      ]
     },
     "execution_count": 22,
     "metadata": {},
     "output_type": "execute_result"
    }
   ],
   "source": [
    "eng_check('Instagram')"
   ]
  },
  {
   "cell_type": "code",
   "execution_count": 23,
   "metadata": {},
   "outputs": [
    {
     "data": {
      "text/plain": [
       "False"
      ]
     },
     "execution_count": 23,
     "metadata": {},
     "output_type": "execute_result"
    }
   ],
   "source": [
    "eng_check('爱奇艺PPS -《欢乐颂2》电视剧热播')"
   ]
  },
  {
   "cell_type": "code",
   "execution_count": 24,
   "metadata": {},
   "outputs": [
    {
     "data": {
      "text/plain": [
       "True"
      ]
     },
     "execution_count": 24,
     "metadata": {},
     "output_type": "execute_result"
    }
   ],
   "source": [
    "eng_check('Docs To Go™ Free Office Suite')"
   ]
  },
  {
   "cell_type": "code",
   "execution_count": 25,
   "metadata": {},
   "outputs": [
    {
     "data": {
      "text/plain": [
       "True"
      ]
     },
     "execution_count": 25,
     "metadata": {},
     "output_type": "execute_result"
    }
   ],
   "source": [
    "eng_check('Instachat 😜')"
   ]
  },
  {
   "attachments": {},
   "cell_type": "markdown",
   "metadata": {},
   "source": [
    "Removing None English words in Dataset"
   ]
  },
  {
   "cell_type": "code",
   "execution_count": 26,
   "metadata": {},
   "outputs": [],
   "source": [
    "def remove_non_eng(dataset,name_index):\n",
    "    eng_list = []\n",
    "    for row in dataset:\n",
    "        name = row[name_index]\n",
    "        if eng_check(name) == True:\n",
    "            eng_list.append(row)\n",
    "    return eng_list"
   ]
  },
  {
   "cell_type": "code",
   "execution_count": 27,
   "metadata": {},
   "outputs": [],
   "source": [
    "goo_eng_clean_list = remove_non_eng(clean_android_data,0)"
   ]
  },
  {
   "cell_type": "code",
   "execution_count": 28,
   "metadata": {},
   "outputs": [
    {
     "data": {
      "text/plain": [
       "9614"
      ]
     },
     "execution_count": 28,
     "metadata": {},
     "output_type": "execute_result"
    }
   ],
   "source": [
    "len(goo_eng_clean_list)"
   ]
  },
  {
   "cell_type": "code",
   "execution_count": 29,
   "metadata": {},
   "outputs": [],
   "source": [
    "app_eng_clean_list = remove_non_eng(apps_data,1)"
   ]
  },
  {
   "cell_type": "code",
   "execution_count": 30,
   "metadata": {},
   "outputs": [
    {
     "data": {
      "text/plain": [
       "6183"
      ]
     },
     "execution_count": 30,
     "metadata": {},
     "output_type": "execute_result"
    }
   ],
   "source": [
    "len(app_eng_clean_list)"
   ]
  },
  {
   "cell_type": "code",
   "execution_count": 31,
   "metadata": {},
   "outputs": [
    {
     "name": "stdout",
     "output_type": "stream",
     "text": [
      "Column name\n",
      "['App', 'Category', 'Rating', 'Reviews', 'Size', 'Installs', 'Type', 'Price', 'Content Rating', 'Genres', 'Last Updated', 'Current Ver', 'Android Ver']\n",
      "Dataset\n",
      "['Photo Editor & Candy Camera & Grid & ScrapBook', 'ART_AND_DESIGN', '4.1', '159', '19M', '10,000+', 'Free', '0', 'Everyone', 'Art & Design', 'January 7, 2018', '1.0.0', '4.0.3 and up']\n",
      "['U Launcher Lite – FREE Live Cool Themes, Hide Apps', 'ART_AND_DESIGN', '4.7', '87510', '8.7M', '5,000,000+', 'Free', '0', 'Everyone', 'Art & Design', 'August 1, 2018', '1.2.4', '4.0.3 and up']\n",
      "['Sketch - Draw & Paint', 'ART_AND_DESIGN', '4.5', '215644', '25M', '50,000,000+', 'Free', '0', 'Teen', 'Art & Design', 'June 8, 2018', 'Varies with device', '4.2 and up']\n",
      "Number of rows 9614 Number of Column 13\n"
     ]
    }
   ],
   "source": [
    "explore_data(goo_eng_clean_list,google_data_col,data_range=3)"
   ]
  },
  {
   "cell_type": "code",
   "execution_count": 32,
   "metadata": {},
   "outputs": [
    {
     "name": "stdout",
     "output_type": "stream",
     "text": [
      "Column name\n",
      "['id', 'track_name', 'size_bytes', 'currency', 'price', 'rating_count_tot', 'rating_count_ver', 'user_rating', 'user_rating_ver', 'ver', 'cont_rating', 'prime_genre', 'sup_devices.num', 'ipadSc_urls.num', 'lang.num', 'vpp_lic']\n",
      "Dataset\n",
      "['281656475', 'PAC-MAN Premium', '100788224', 'USD', '3.99', '21292', '26', '4', '4.5', '6.3.5', '4+', 'Games', '38', '5', '10', '1']\n",
      "['281796108', 'Evernote - stay organized', '158578688', 'USD', '0', '161065', '26', '4', '3.5', '8.2.2', '4+', 'Productivity', '37', '5', '23', '1']\n",
      "['281940292', 'WeatherBug - Local Weather, Radar, Maps, Alerts', '100524032', 'USD', '0', '188583', '2822', '3.5', '4.5', '5.0.0', '4+', 'Weather', '37', '5', '3', '1']\n",
      "Number of rows 6183 Number of Column 16\n"
     ]
    }
   ],
   "source": [
    "explore_data(app_eng_clean_list,apps_data_col,data_range=3)"
   ]
  },
  {
   "attachments": {},
   "cell_type": "markdown",
   "metadata": {},
   "source": [
    "Isolating the Free Apps"
   ]
  },
  {
   "cell_type": "code",
   "execution_count": 33,
   "metadata": {},
   "outputs": [],
   "source": [
    "def free_application(dataset,free_index):\n",
    "    free_data = []\n",
    "    for row in dataset:\n",
    "        if row[free_index] == '0':\n",
    "            free_data.append(row)\n",
    "    return free_data"
   ]
  },
  {
   "cell_type": "code",
   "execution_count": 34,
   "metadata": {},
   "outputs": [],
   "source": [
    "app_eng_clean_free_list = free_application(app_eng_clean_list,4)"
   ]
  },
  {
   "cell_type": "code",
   "execution_count": 35,
   "metadata": {},
   "outputs": [
    {
     "data": {
      "text/plain": [
       "3222"
      ]
     },
     "execution_count": 35,
     "metadata": {},
     "output_type": "execute_result"
    }
   ],
   "source": [
    "len(app_eng_clean_free_list)"
   ]
  },
  {
   "cell_type": "code",
   "execution_count": 36,
   "metadata": {},
   "outputs": [],
   "source": [
    "goo_eng_clean_free_list = free_application(goo_eng_clean_list,7)"
   ]
  },
  {
   "cell_type": "code",
   "execution_count": 37,
   "metadata": {},
   "outputs": [
    {
     "data": {
      "text/plain": [
       "8864"
      ]
     },
     "execution_count": 37,
     "metadata": {},
     "output_type": "execute_result"
    }
   ],
   "source": [
    "len(goo_eng_clean_free_list)"
   ]
  },
  {
   "attachments": {},
   "cell_type": "markdown",
   "metadata": {},
   "source": [
    "Genre Counting"
   ]
  },
  {
   "cell_type": "code",
   "execution_count": 38,
   "metadata": {},
   "outputs": [],
   "source": [
    "def genre_count(data_set,genre_index):\n",
    "    genre_dict = {}\n",
    "    for row in data_set:\n",
    "        genre_name = row[genre_index]\n",
    "        if genre_name in genre_dict:\n",
    "            genre_dict[genre_name] += 1\n",
    "        else:\n",
    "            genre_dict[genre_name] = 1\n",
    "    return genre_dict"
   ]
  },
  {
   "cell_type": "code",
   "execution_count": 39,
   "metadata": {},
   "outputs": [],
   "source": [
    "apple_common_genre = genre_count(app_eng_clean_free_list,11)"
   ]
  },
  {
   "cell_type": "code",
   "execution_count": 40,
   "metadata": {},
   "outputs": [
    {
     "data": {
      "text/plain": [
       "{'Productivity': 56,\n",
       " 'Weather': 28,\n",
       " 'Shopping': 84,\n",
       " 'Reference': 18,\n",
       " 'Finance': 36,\n",
       " 'Music': 66,\n",
       " 'Utilities': 81,\n",
       " 'Travel': 40,\n",
       " 'Social Networking': 106,\n",
       " 'Sports': 69,\n",
       " 'Health & Fitness': 65,\n",
       " 'Games': 1874,\n",
       " 'Food & Drink': 26,\n",
       " 'News': 43,\n",
       " 'Book': 14,\n",
       " 'Photo & Video': 160,\n",
       " 'Entertainment': 254,\n",
       " 'Business': 17,\n",
       " 'Lifestyle': 51,\n",
       " 'Education': 118,\n",
       " 'Navigation': 6,\n",
       " 'Medical': 6,\n",
       " 'Catalogs': 4}"
      ]
     },
     "execution_count": 40,
     "metadata": {},
     "output_type": "execute_result"
    }
   ],
   "source": [
    "apple_common_genre"
   ]
  },
  {
   "cell_type": "code",
   "execution_count": 41,
   "metadata": {},
   "outputs": [],
   "source": [
    "google_common_genre = genre_count(goo_eng_clean_free_list,9)"
   ]
  },
  {
   "cell_type": "code",
   "execution_count": 42,
   "metadata": {},
   "outputs": [
    {
     "data": {
      "text/plain": [
       "{'Art & Design': 53,\n",
       " 'Art & Design;Creativity': 6,\n",
       " 'Auto & Vehicles': 82,\n",
       " 'Beauty': 53,\n",
       " 'Books & Reference': 190,\n",
       " 'Business': 407,\n",
       " 'Comics': 54,\n",
       " 'Comics;Creativity': 1,\n",
       " 'Communication': 287,\n",
       " 'Dating': 165,\n",
       " 'Education': 474,\n",
       " 'Education;Creativity': 4,\n",
       " 'Education;Education': 30,\n",
       " 'Education;Pretend Play': 5,\n",
       " 'Education;Brain Games': 3,\n",
       " 'Entertainment': 538,\n",
       " 'Entertainment;Brain Games': 7,\n",
       " 'Entertainment;Creativity': 3,\n",
       " 'Entertainment;Music & Video': 15,\n",
       " 'Events': 63,\n",
       " 'Finance': 328,\n",
       " 'Food & Drink': 110,\n",
       " 'Health & Fitness': 273,\n",
       " 'House & Home': 73,\n",
       " 'Libraries & Demo': 83,\n",
       " 'Lifestyle': 345,\n",
       " 'Lifestyle;Pretend Play': 1,\n",
       " 'Card': 40,\n",
       " 'Arcade': 164,\n",
       " 'Puzzle': 100,\n",
       " 'Racing': 88,\n",
       " 'Sports': 307,\n",
       " 'Casual': 156,\n",
       " 'Simulation': 181,\n",
       " 'Adventure': 60,\n",
       " 'Trivia': 37,\n",
       " 'Action': 275,\n",
       " 'Word': 23,\n",
       " 'Role Playing': 83,\n",
       " 'Strategy': 81,\n",
       " 'Board': 34,\n",
       " 'Music': 18,\n",
       " 'Action;Action & Adventure': 9,\n",
       " 'Casual;Brain Games': 12,\n",
       " 'Educational;Creativity': 3,\n",
       " 'Puzzle;Brain Games': 15,\n",
       " 'Educational;Education': 35,\n",
       " 'Casual;Pretend Play': 21,\n",
       " 'Educational;Brain Games': 6,\n",
       " 'Art & Design;Pretend Play': 1,\n",
       " 'Educational;Pretend Play': 8,\n",
       " 'Entertainment;Education': 1,\n",
       " 'Casual;Education': 2,\n",
       " 'Casual;Creativity': 6,\n",
       " 'Casual;Action & Adventure': 12,\n",
       " 'Music;Music & Video': 2,\n",
       " 'Arcade;Pretend Play': 1,\n",
       " 'Adventure;Action & Adventure': 3,\n",
       " 'Role Playing;Action & Adventure': 3,\n",
       " 'Simulation;Pretend Play': 2,\n",
       " 'Puzzle;Creativity': 2,\n",
       " 'Simulation;Action & Adventure': 7,\n",
       " 'Racing;Action & Adventure': 15,\n",
       " 'Sports;Action & Adventure': 2,\n",
       " 'Educational;Action & Adventure': 3,\n",
       " 'Arcade;Action & Adventure': 11,\n",
       " 'Entertainment;Action & Adventure': 3,\n",
       " 'Art & Design;Action & Adventure': 1,\n",
       " 'Puzzle;Action & Adventure': 3,\n",
       " 'Education;Action & Adventure': 3,\n",
       " 'Strategy;Action & Adventure': 1,\n",
       " 'Music & Audio;Music & Video': 1,\n",
       " 'Health & Fitness;Education': 1,\n",
       " 'Board;Action & Adventure': 2,\n",
       " 'Board;Brain Games': 7,\n",
       " 'Casual;Music & Video': 1,\n",
       " 'Education;Music & Video': 3,\n",
       " 'Role Playing;Pretend Play': 4,\n",
       " 'Entertainment;Pretend Play': 2,\n",
       " 'Medical': 313,\n",
       " 'Social': 236,\n",
       " 'Shopping': 199,\n",
       " 'Photography': 261,\n",
       " 'Travel & Local': 206,\n",
       " 'Travel & Local;Action & Adventure': 1,\n",
       " 'Tools': 749,\n",
       " 'Tools;Education': 1,\n",
       " 'Personalization': 294,\n",
       " 'Productivity': 345,\n",
       " 'Parenting': 44,\n",
       " 'Parenting;Music & Video': 6,\n",
       " 'Parenting;Education': 7,\n",
       " 'Parenting;Brain Games': 1,\n",
       " 'Weather': 71,\n",
       " 'Video Players & Editors': 157,\n",
       " 'Video Players & Editors;Music & Video': 2,\n",
       " 'Video Players & Editors;Creativity': 1,\n",
       " 'News & Magazines': 248,\n",
       " 'Maps & Navigation': 124,\n",
       " 'Health & Fitness;Action & Adventure': 1,\n",
       " 'Educational': 33,\n",
       " 'Casino': 38,\n",
       " 'Trivia;Education': 1,\n",
       " 'Lifestyle;Education': 1,\n",
       " 'Card;Action & Adventure': 1,\n",
       " 'Books & Reference;Education': 1,\n",
       " 'Simulation;Education': 1,\n",
       " 'Puzzle;Education': 1,\n",
       " 'Adventure;Education': 1,\n",
       " 'Role Playing;Brain Games': 1,\n",
       " 'Strategy;Education': 1,\n",
       " 'Racing;Pretend Play': 1,\n",
       " 'Communication;Creativity': 1,\n",
       " 'Strategy;Creativity': 1}"
      ]
     },
     "execution_count": 42,
     "metadata": {},
     "output_type": "execute_result"
    }
   ],
   "source": [
    "google_common_genre"
   ]
  },
  {
   "cell_type": "code",
   "execution_count": 43,
   "metadata": {},
   "outputs": [],
   "source": [
    "google_common_category = genre_count(goo_eng_clean_free_list,1)"
   ]
  },
  {
   "cell_type": "code",
   "execution_count": 44,
   "metadata": {},
   "outputs": [
    {
     "data": {
      "text/plain": [
       "{'ART_AND_DESIGN': 57,\n",
       " 'AUTO_AND_VEHICLES': 82,\n",
       " 'BEAUTY': 53,\n",
       " 'BOOKS_AND_REFERENCE': 190,\n",
       " 'BUSINESS': 407,\n",
       " 'COMICS': 55,\n",
       " 'COMMUNICATION': 287,\n",
       " 'DATING': 165,\n",
       " 'EDUCATION': 103,\n",
       " 'ENTERTAINMENT': 85,\n",
       " 'EVENTS': 63,\n",
       " 'FINANCE': 328,\n",
       " 'FOOD_AND_DRINK': 110,\n",
       " 'HEALTH_AND_FITNESS': 273,\n",
       " 'HOUSE_AND_HOME': 73,\n",
       " 'LIBRARIES_AND_DEMO': 83,\n",
       " 'LIFESTYLE': 346,\n",
       " 'GAME': 862,\n",
       " 'FAMILY': 1676,\n",
       " 'MEDICAL': 313,\n",
       " 'SOCIAL': 236,\n",
       " 'SHOPPING': 199,\n",
       " 'PHOTOGRAPHY': 261,\n",
       " 'SPORTS': 301,\n",
       " 'TRAVEL_AND_LOCAL': 207,\n",
       " 'TOOLS': 750,\n",
       " 'PERSONALIZATION': 294,\n",
       " 'PRODUCTIVITY': 345,\n",
       " 'PARENTING': 58,\n",
       " 'WEATHER': 71,\n",
       " 'VIDEO_PLAYERS': 159,\n",
       " 'NEWS_AND_MAGAZINES': 248,\n",
       " 'MAPS_AND_NAVIGATION': 124}"
      ]
     },
     "execution_count": 44,
     "metadata": {},
     "output_type": "execute_result"
    }
   ],
   "source": [
    "google_common_category"
   ]
  },
  {
   "cell_type": "code",
   "execution_count": 45,
   "metadata": {},
   "outputs": [],
   "source": [
    "def display_table(dataset):\n",
    "    display_list = []\n",
    "    for key in dataset:\n",
    "        display_list.append((round(dataset[key],2),key))\n",
    "\n",
    "    return sorted(display_list,reverse= True)"
   ]
  },
  {
   "cell_type": "code",
   "execution_count": 46,
   "metadata": {},
   "outputs": [
    {
     "data": {
      "text/plain": [
       "[(749, 'Tools'),\n",
       " (538, 'Entertainment'),\n",
       " (474, 'Education'),\n",
       " (407, 'Business'),\n",
       " (345, 'Productivity'),\n",
       " (345, 'Lifestyle'),\n",
       " (328, 'Finance'),\n",
       " (313, 'Medical'),\n",
       " (307, 'Sports'),\n",
       " (294, 'Personalization'),\n",
       " (287, 'Communication'),\n",
       " (275, 'Action'),\n",
       " (273, 'Health & Fitness'),\n",
       " (261, 'Photography'),\n",
       " (248, 'News & Magazines'),\n",
       " (236, 'Social'),\n",
       " (206, 'Travel & Local'),\n",
       " (199, 'Shopping'),\n",
       " (190, 'Books & Reference'),\n",
       " (181, 'Simulation'),\n",
       " (165, 'Dating'),\n",
       " (164, 'Arcade'),\n",
       " (157, 'Video Players & Editors'),\n",
       " (156, 'Casual'),\n",
       " (124, 'Maps & Navigation'),\n",
       " (110, 'Food & Drink'),\n",
       " (100, 'Puzzle'),\n",
       " (88, 'Racing'),\n",
       " (83, 'Role Playing'),\n",
       " (83, 'Libraries & Demo'),\n",
       " (82, 'Auto & Vehicles'),\n",
       " (81, 'Strategy'),\n",
       " (73, 'House & Home'),\n",
       " (71, 'Weather'),\n",
       " (63, 'Events'),\n",
       " (60, 'Adventure'),\n",
       " (54, 'Comics'),\n",
       " (53, 'Beauty'),\n",
       " (53, 'Art & Design'),\n",
       " (44, 'Parenting'),\n",
       " (40, 'Card'),\n",
       " (38, 'Casino'),\n",
       " (37, 'Trivia'),\n",
       " (35, 'Educational;Education'),\n",
       " (34, 'Board'),\n",
       " (33, 'Educational'),\n",
       " (30, 'Education;Education'),\n",
       " (23, 'Word'),\n",
       " (21, 'Casual;Pretend Play'),\n",
       " (18, 'Music'),\n",
       " (15, 'Racing;Action & Adventure'),\n",
       " (15, 'Puzzle;Brain Games'),\n",
       " (15, 'Entertainment;Music & Video'),\n",
       " (12, 'Casual;Brain Games'),\n",
       " (12, 'Casual;Action & Adventure'),\n",
       " (11, 'Arcade;Action & Adventure'),\n",
       " (9, 'Action;Action & Adventure'),\n",
       " (8, 'Educational;Pretend Play'),\n",
       " (7, 'Simulation;Action & Adventure'),\n",
       " (7, 'Parenting;Education'),\n",
       " (7, 'Entertainment;Brain Games'),\n",
       " (7, 'Board;Brain Games'),\n",
       " (6, 'Parenting;Music & Video'),\n",
       " (6, 'Educational;Brain Games'),\n",
       " (6, 'Casual;Creativity'),\n",
       " (6, 'Art & Design;Creativity'),\n",
       " (5, 'Education;Pretend Play'),\n",
       " (4, 'Role Playing;Pretend Play'),\n",
       " (4, 'Education;Creativity'),\n",
       " (3, 'Role Playing;Action & Adventure'),\n",
       " (3, 'Puzzle;Action & Adventure'),\n",
       " (3, 'Entertainment;Creativity'),\n",
       " (3, 'Entertainment;Action & Adventure'),\n",
       " (3, 'Educational;Creativity'),\n",
       " (3, 'Educational;Action & Adventure'),\n",
       " (3, 'Education;Music & Video'),\n",
       " (3, 'Education;Brain Games'),\n",
       " (3, 'Education;Action & Adventure'),\n",
       " (3, 'Adventure;Action & Adventure'),\n",
       " (2, 'Video Players & Editors;Music & Video'),\n",
       " (2, 'Sports;Action & Adventure'),\n",
       " (2, 'Simulation;Pretend Play'),\n",
       " (2, 'Puzzle;Creativity'),\n",
       " (2, 'Music;Music & Video'),\n",
       " (2, 'Entertainment;Pretend Play'),\n",
       " (2, 'Casual;Education'),\n",
       " (2, 'Board;Action & Adventure'),\n",
       " (1, 'Video Players & Editors;Creativity'),\n",
       " (1, 'Trivia;Education'),\n",
       " (1, 'Travel & Local;Action & Adventure'),\n",
       " (1, 'Tools;Education'),\n",
       " (1, 'Strategy;Education'),\n",
       " (1, 'Strategy;Creativity'),\n",
       " (1, 'Strategy;Action & Adventure'),\n",
       " (1, 'Simulation;Education'),\n",
       " (1, 'Role Playing;Brain Games'),\n",
       " (1, 'Racing;Pretend Play'),\n",
       " (1, 'Puzzle;Education'),\n",
       " (1, 'Parenting;Brain Games'),\n",
       " (1, 'Music & Audio;Music & Video'),\n",
       " (1, 'Lifestyle;Pretend Play'),\n",
       " (1, 'Lifestyle;Education'),\n",
       " (1, 'Health & Fitness;Education'),\n",
       " (1, 'Health & Fitness;Action & Adventure'),\n",
       " (1, 'Entertainment;Education'),\n",
       " (1, 'Communication;Creativity'),\n",
       " (1, 'Comics;Creativity'),\n",
       " (1, 'Casual;Music & Video'),\n",
       " (1, 'Card;Action & Adventure'),\n",
       " (1, 'Books & Reference;Education'),\n",
       " (1, 'Art & Design;Pretend Play'),\n",
       " (1, 'Art & Design;Action & Adventure'),\n",
       " (1, 'Arcade;Pretend Play'),\n",
       " (1, 'Adventure;Education')]"
      ]
     },
     "execution_count": 46,
     "metadata": {},
     "output_type": "execute_result"
    }
   ],
   "source": [
    "display_table(google_common_genre)"
   ]
  },
  {
   "cell_type": "code",
   "execution_count": 47,
   "metadata": {},
   "outputs": [
    {
     "data": {
      "text/plain": [
       "[(1874, 'Games'),\n",
       " (254, 'Entertainment'),\n",
       " (160, 'Photo & Video'),\n",
       " (118, 'Education'),\n",
       " (106, 'Social Networking'),\n",
       " (84, 'Shopping'),\n",
       " (81, 'Utilities'),\n",
       " (69, 'Sports'),\n",
       " (66, 'Music'),\n",
       " (65, 'Health & Fitness'),\n",
       " (56, 'Productivity'),\n",
       " (51, 'Lifestyle'),\n",
       " (43, 'News'),\n",
       " (40, 'Travel'),\n",
       " (36, 'Finance'),\n",
       " (28, 'Weather'),\n",
       " (26, 'Food & Drink'),\n",
       " (18, 'Reference'),\n",
       " (17, 'Business'),\n",
       " (14, 'Book'),\n",
       " (6, 'Navigation'),\n",
       " (6, 'Medical'),\n",
       " (4, 'Catalogs')]"
      ]
     },
     "execution_count": 47,
     "metadata": {},
     "output_type": "execute_result"
    }
   ],
   "source": [
    "display_table(apple_common_genre)"
   ]
  },
  {
   "cell_type": "code",
   "execution_count": 48,
   "metadata": {},
   "outputs": [
    {
     "data": {
      "text/plain": [
       "[(1676, 'FAMILY'),\n",
       " (862, 'GAME'),\n",
       " (750, 'TOOLS'),\n",
       " (407, 'BUSINESS'),\n",
       " (346, 'LIFESTYLE'),\n",
       " (345, 'PRODUCTIVITY'),\n",
       " (328, 'FINANCE'),\n",
       " (313, 'MEDICAL'),\n",
       " (301, 'SPORTS'),\n",
       " (294, 'PERSONALIZATION'),\n",
       " (287, 'COMMUNICATION'),\n",
       " (273, 'HEALTH_AND_FITNESS'),\n",
       " (261, 'PHOTOGRAPHY'),\n",
       " (248, 'NEWS_AND_MAGAZINES'),\n",
       " (236, 'SOCIAL'),\n",
       " (207, 'TRAVEL_AND_LOCAL'),\n",
       " (199, 'SHOPPING'),\n",
       " (190, 'BOOKS_AND_REFERENCE'),\n",
       " (165, 'DATING'),\n",
       " (159, 'VIDEO_PLAYERS'),\n",
       " (124, 'MAPS_AND_NAVIGATION'),\n",
       " (110, 'FOOD_AND_DRINK'),\n",
       " (103, 'EDUCATION'),\n",
       " (85, 'ENTERTAINMENT'),\n",
       " (83, 'LIBRARIES_AND_DEMO'),\n",
       " (82, 'AUTO_AND_VEHICLES'),\n",
       " (73, 'HOUSE_AND_HOME'),\n",
       " (71, 'WEATHER'),\n",
       " (63, 'EVENTS'),\n",
       " (58, 'PARENTING'),\n",
       " (57, 'ART_AND_DESIGN'),\n",
       " (55, 'COMICS'),\n",
       " (53, 'BEAUTY')]"
      ]
     },
     "execution_count": 48,
     "metadata": {},
     "output_type": "execute_result"
    }
   ],
   "source": [
    "display_table(google_common_category)"
   ]
  },
  {
   "attachments": {},
   "cell_type": "markdown",
   "metadata": {},
   "source": [
    "Finding Most Popular Application in Appstore"
   ]
  },
  {
   "cell_type": "code",
   "execution_count": 49,
   "metadata": {},
   "outputs": [],
   "source": [
    "def most_popular(col,dataset,genre_index,user_index):\n",
    "    popular_dict = {}\n",
    "    for genre in col:\n",
    "        total = 0\n",
    "        len_genre = 0\n",
    "        avg_rating = 0\n",
    "        for row in dataset:\n",
    "            genre_app = row[genre_index]\n",
    "            if genre_app == genre:\n",
    "                user_rating = row[user_index]\n",
    "                user_rating = user_rating.replace(',', '')\n",
    "                user_rating = user_rating.replace('+', '')\n",
    "                total += float(user_rating)\n",
    "                len_genre += 1\n",
    "        avg_rating = total / len_genre\n",
    "        popular_dict[genre] = avg_rating\n",
    "    return popular_dict"
   ]
  },
  {
   "cell_type": "code",
   "execution_count": 50,
   "metadata": {},
   "outputs": [],
   "source": [
    "most_popular_apple = most_popular(apple_common_genre,app_eng_clean_free_list,11,5)"
   ]
  },
  {
   "cell_type": "code",
   "execution_count": 51,
   "metadata": {},
   "outputs": [
    {
     "data": {
      "text/plain": [
       "[(86090.33, 'Navigation'),\n",
       " (74942.11, 'Reference'),\n",
       " (71548.35, 'Social Networking'),\n",
       " (57326.53, 'Music'),\n",
       " (52279.89, 'Weather'),\n",
       " (39758.5, 'Book'),\n",
       " (33333.92, 'Food & Drink'),\n",
       " (31467.94, 'Finance'),\n",
       " (28441.54, 'Photo & Video'),\n",
       " (28243.8, 'Travel'),\n",
       " (26919.69, 'Shopping'),\n",
       " (23298.02, 'Health & Fitness'),\n",
       " (23008.9, 'Sports'),\n",
       " (22788.67, 'Games'),\n",
       " (21248.02, 'News'),\n",
       " (21028.41, 'Productivity'),\n",
       " (18684.46, 'Utilities'),\n",
       " (16485.76, 'Lifestyle'),\n",
       " (14029.83, 'Entertainment'),\n",
       " (7491.12, 'Business'),\n",
       " (7003.98, 'Education'),\n",
       " (4004.0, 'Catalogs'),\n",
       " (612.0, 'Medical')]"
      ]
     },
     "execution_count": 51,
     "metadata": {},
     "output_type": "execute_result"
    }
   ],
   "source": [
    "display_table(most_popular_apple)"
   ]
  },
  {
   "cell_type": "code",
   "execution_count": 52,
   "metadata": {},
   "outputs": [],
   "source": [
    "most_popular_android = most_popular(google_common_category,goo_eng_clean_free_list,1,5)"
   ]
  },
  {
   "cell_type": "code",
   "execution_count": 53,
   "metadata": {},
   "outputs": [
    {
     "data": {
      "text/plain": [
       "[(38456119.17, 'COMMUNICATION'),\n",
       " (24727872.45, 'VIDEO_PLAYERS'),\n",
       " (23253652.13, 'SOCIAL'),\n",
       " (17840110.4, 'PHOTOGRAPHY'),\n",
       " (16787331.34, 'PRODUCTIVITY'),\n",
       " (15588015.6, 'GAME'),\n",
       " (13984077.71, 'TRAVEL_AND_LOCAL'),\n",
       " (11640705.88, 'ENTERTAINMENT'),\n",
       " (10801391.3, 'TOOLS'),\n",
       " (9549178.47, 'NEWS_AND_MAGAZINES'),\n",
       " (8767811.89, 'BOOKS_AND_REFERENCE'),\n",
       " (7036877.31, 'SHOPPING'),\n",
       " (5201482.61, 'PERSONALIZATION'),\n",
       " (5074486.2, 'WEATHER'),\n",
       " (4188821.99, 'HEALTH_AND_FITNESS'),\n",
       " (4056941.77, 'MAPS_AND_NAVIGATION'),\n",
       " (3695641.82, 'FAMILY'),\n",
       " (3638640.14, 'SPORTS'),\n",
       " (1986335.09, 'ART_AND_DESIGN'),\n",
       " (1924897.74, 'FOOD_AND_DRINK'),\n",
       " (1833495.15, 'EDUCATION'),\n",
       " (1712290.15, 'BUSINESS'),\n",
       " (1437816.27, 'LIFESTYLE'),\n",
       " (1387692.48, 'FINANCE'),\n",
       " (1331540.56, 'HOUSE_AND_HOME'),\n",
       " (854028.83, 'DATING'),\n",
       " (817657.27, 'COMICS'),\n",
       " (647317.82, 'AUTO_AND_VEHICLES'),\n",
       " (638503.73, 'LIBRARIES_AND_DEMO'),\n",
       " (542603.62, 'PARENTING'),\n",
       " (513151.89, 'BEAUTY'),\n",
       " (253542.22, 'EVENTS'),\n",
       " (120550.62, 'MEDICAL')]"
      ]
     },
     "execution_count": 53,
     "metadata": {},
     "output_type": "execute_result"
    }
   ],
   "source": [
    "display_table(most_popular_android)"
   ]
  }
 ],
 "metadata": {
  "kernelspec": {
   "display_name": "Python 3",
   "language": "python",
   "name": "python3"
  },
  "language_info": {
   "codemirror_mode": {
    "name": "ipython",
    "version": 3
   },
   "file_extension": ".py",
   "mimetype": "text/x-python",
   "name": "python",
   "nbconvert_exporter": "python",
   "pygments_lexer": "ipython3",
   "version": "3.9.5"
  },
  "orig_nbformat": 4,
  "vscode": {
   "interpreter": {
    "hash": "11758e6afe0e3e9281b41333033aed2fd507b96e5bcab9a0430f0a033492b3ae"
   }
  }
 },
 "nbformat": 4,
 "nbformat_minor": 2
}
